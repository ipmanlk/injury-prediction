{
 "cells": [
  {
   "cell_type": "code",
   "execution_count": 1,
   "metadata": {
    "id": "pAnZygSi2Lk6"
   },
   "outputs": [],
   "source": [
    "import pandas as pd\n",
    "import matplotlib.pyplot as plt\n",
    "from sklearn.model_selection import train_test_split\n",
    "from sklearn.linear_model import LogisticRegression\n",
    "from sklearn.metrics import accuracy_score, confusion_matrix\n",
    "import pickle\n",
    "from pathlib import Path"
   ]
  },
  {
   "cell_type": "code",
   "execution_count": 2,
   "metadata": {
    "colab": {
     "base_uri": "https://localhost:8080/",
     "height": 424
    },
    "id": "ot8v-_wg2gkT",
    "outputId": "fdb7f0c8-9bf5-4d43-8195-76d5055f22b7"
   },
   "outputs": [
    {
     "data": {
      "text/html": [
       "<div>\n",
       "<style scoped>\n",
       "    .dataframe tbody tr th:only-of-type {\n",
       "        vertical-align: middle;\n",
       "    }\n",
       "\n",
       "    .dataframe tbody tr th {\n",
       "        vertical-align: top;\n",
       "    }\n",
       "\n",
       "    .dataframe thead th {\n",
       "        text-align: right;\n",
       "    }\n",
       "</style>\n",
       "<table border=\"1\" class=\"dataframe\">\n",
       "  <thead>\n",
       "    <tr style=\"text-align: right;\">\n",
       "      <th></th>\n",
       "      <th>heartRate</th>\n",
       "      <th>oxygenSaturation</th>\n",
       "      <th>temperature</th>\n",
       "      <th>systolicBloodPressure</th>\n",
       "      <th>diastolicBloodPressure</th>\n",
       "      <th>OUTPUT</th>\n",
       "    </tr>\n",
       "  </thead>\n",
       "  <tbody>\n",
       "    <tr>\n",
       "      <th>0</th>\n",
       "      <td>110</td>\n",
       "      <td>97.0</td>\n",
       "      <td>41.0</td>\n",
       "      <td>124</td>\n",
       "      <td>93</td>\n",
       "      <td>Abnormal</td>\n",
       "    </tr>\n",
       "    <tr>\n",
       "      <th>1</th>\n",
       "      <td>125</td>\n",
       "      <td>100.0</td>\n",
       "      <td>29.0</td>\n",
       "      <td>112</td>\n",
       "      <td>71</td>\n",
       "      <td>Normal</td>\n",
       "    </tr>\n",
       "    <tr>\n",
       "      <th>2</th>\n",
       "      <td>88</td>\n",
       "      <td>99.0</td>\n",
       "      <td>43.0</td>\n",
       "      <td>161</td>\n",
       "      <td>99</td>\n",
       "      <td>Abnormal</td>\n",
       "    </tr>\n",
       "    <tr>\n",
       "      <th>3</th>\n",
       "      <td>69</td>\n",
       "      <td>97.0</td>\n",
       "      <td>38.0</td>\n",
       "      <td>124</td>\n",
       "      <td>91</td>\n",
       "      <td>Abnormal</td>\n",
       "    </tr>\n",
       "    <tr>\n",
       "      <th>4</th>\n",
       "      <td>82</td>\n",
       "      <td>93.0</td>\n",
       "      <td>41.0</td>\n",
       "      <td>147</td>\n",
       "      <td>115</td>\n",
       "      <td>Abnormal</td>\n",
       "    </tr>\n",
       "    <tr>\n",
       "      <th>...</th>\n",
       "      <td>...</td>\n",
       "      <td>...</td>\n",
       "      <td>...</td>\n",
       "      <td>...</td>\n",
       "      <td>...</td>\n",
       "      <td>...</td>\n",
       "    </tr>\n",
       "    <tr>\n",
       "      <th>25488</th>\n",
       "      <td>78</td>\n",
       "      <td>93.0</td>\n",
       "      <td>29.0</td>\n",
       "      <td>116</td>\n",
       "      <td>71</td>\n",
       "      <td>Normal</td>\n",
       "    </tr>\n",
       "    <tr>\n",
       "      <th>25489</th>\n",
       "      <td>80</td>\n",
       "      <td>93.0</td>\n",
       "      <td>42.0</td>\n",
       "      <td>121</td>\n",
       "      <td>88</td>\n",
       "      <td>Abnormal</td>\n",
       "    </tr>\n",
       "    <tr>\n",
       "      <th>25490</th>\n",
       "      <td>97</td>\n",
       "      <td>98.0</td>\n",
       "      <td>33.0</td>\n",
       "      <td>166</td>\n",
       "      <td>118</td>\n",
       "      <td>Abnormal</td>\n",
       "    </tr>\n",
       "    <tr>\n",
       "      <th>25491</th>\n",
       "      <td>61</td>\n",
       "      <td>100.0</td>\n",
       "      <td>39.0</td>\n",
       "      <td>157</td>\n",
       "      <td>96</td>\n",
       "      <td>Abnormal</td>\n",
       "    </tr>\n",
       "    <tr>\n",
       "      <th>25492</th>\n",
       "      <td>96</td>\n",
       "      <td>97.0</td>\n",
       "      <td>36.2</td>\n",
       "      <td>119</td>\n",
       "      <td>62</td>\n",
       "      <td>Normal</td>\n",
       "    </tr>\n",
       "  </tbody>\n",
       "</table>\n",
       "<p>25493 rows × 6 columns</p>\n",
       "</div>"
      ],
      "text/plain": [
       "       heartRate  oxygenSaturation  temperature  systolicBloodPressure  \\\n",
       "0            110              97.0         41.0                    124   \n",
       "1            125             100.0         29.0                    112   \n",
       "2             88              99.0         43.0                    161   \n",
       "3             69              97.0         38.0                    124   \n",
       "4             82              93.0         41.0                    147   \n",
       "...          ...               ...          ...                    ...   \n",
       "25488         78              93.0         29.0                    116   \n",
       "25489         80              93.0         42.0                    121   \n",
       "25490         97              98.0         33.0                    166   \n",
       "25491         61             100.0         39.0                    157   \n",
       "25492         96              97.0         36.2                    119   \n",
       "\n",
       "       diastolicBloodPressure    OUTPUT  \n",
       "0                          93  Abnormal  \n",
       "1                          71    Normal  \n",
       "2                          99  Abnormal  \n",
       "3                          91  Abnormal  \n",
       "4                         115  Abnormal  \n",
       "...                       ...       ...  \n",
       "25488                      71    Normal  \n",
       "25489                      88  Abnormal  \n",
       "25490                     118  Abnormal  \n",
       "25491                      96  Abnormal  \n",
       "25492                      62    Normal  \n",
       "\n",
       "[25493 rows x 6 columns]"
      ]
     },
     "execution_count": 2,
     "metadata": {},
     "output_type": "execute_result"
    }
   ],
   "source": [
    "df = pd.read_csv(\"../csv/data.csv\")\n",
    "df.columns = df.columns.str.strip()\n",
    "df"
   ]
  },
  {
   "cell_type": "code",
   "execution_count": 4,
   "metadata": {
    "id": "LEhD69DY2mnK"
   },
   "outputs": [],
   "source": [
    "X = df.drop('OUTPUT', axis=1)\n",
    "y = df['OUTPUT']\n",
    "X_train, X_test, y_train, y_test = train_test_split(X, y, test_size=0.2, random_state=42)"
   ]
  },
  {
   "cell_type": "code",
   "execution_count": 5,
   "metadata": {
    "colab": {
     "base_uri": "https://localhost:8080/",
     "height": 75
    },
    "id": "nhpO08M625DD",
    "outputId": "06e48399-6bd5-4b93-d123-f23aa0d2ea4f"
   },
   "outputs": [
    {
     "name": "stderr",
     "output_type": "stream",
     "text": [
      "c:\\Users\\sachi\\anaconda3\\lib\\site-packages\\sklearn\\linear_model\\_logistic.py:814: ConvergenceWarning: lbfgs failed to converge (status=1):\n",
      "STOP: TOTAL NO. of ITERATIONS REACHED LIMIT.\n",
      "\n",
      "Increase the number of iterations (max_iter) or scale the data as shown in:\n",
      "    https://scikit-learn.org/stable/modules/preprocessing.html\n",
      "Please also refer to the documentation for alternative solver options:\n",
      "    https://scikit-learn.org/stable/modules/linear_model.html#logistic-regression\n",
      "  n_iter_i = _check_optimize_result(\n"
     ]
    },
    {
     "data": {
      "text/plain": [
       "LogisticRegression()"
      ]
     },
     "execution_count": 5,
     "metadata": {},
     "output_type": "execute_result"
    }
   ],
   "source": [
    "model = LogisticRegression()\n",
    "model.fit(X_train, y_train)\n"
   ]
  },
  {
   "cell_type": "code",
   "execution_count": 6,
   "metadata": {
    "id": "dwrB1I2o3BB6"
   },
   "outputs": [],
   "source": [
    "y_pred = model.predict(X_test)"
   ]
  },
  {
   "cell_type": "code",
   "execution_count": 7,
   "metadata": {
    "colab": {
     "base_uri": "https://localhost:8080/"
    },
    "id": "gb3Puh6x3DEq",
    "outputId": "d81a1203-50dc-4f74-a66a-8137490bd4cd"
   },
   "outputs": [
    {
     "name": "stdout",
     "output_type": "stream",
     "text": [
      "Accuracy: 1.0\n",
      "Confusion Matrix: [[3920    0]\n",
      " [   0 1179]]\n"
     ]
    }
   ],
   "source": [
    "print('Accuracy:', accuracy_score(y_test, y_pred))\n",
    "print('Confusion Matrix:', confusion_matrix(y_test, y_pred))\n"
   ]
  },
  {
   "cell_type": "code",
   "execution_count": 8,
   "metadata": {
    "id": "P6sAorqj3E26"
   },
   "outputs": [],
   "source": [
    "new_data = pd.DataFrame({'heartRate': [100], 'oxygenSaturation': [95], 'temperature': [37], 'systolicBloodPressure': [120], 'diastolicBloodPressure': [80]})\n",
    "prediction_proba = model.predict_proba(new_data)\n",
    "prediction = model.predict(new_data)"
   ]
  },
  {
   "cell_type": "code",
   "execution_count": 9,
   "metadata": {
    "colab": {
     "base_uri": "https://localhost:8080/"
    },
    "id": "-6pVus533vBP",
    "outputId": "c3c9ea9f-d747-4de5-ef2e-2ecd549c9f82"
   },
   "outputs": [
    {
     "data": {
      "text/plain": [
       "array([[0.92557648, 0.07442352]])"
      ]
     },
     "execution_count": 9,
     "metadata": {},
     "output_type": "execute_result"
    }
   ],
   "source": [
    "prediction_proba"
   ]
  },
  {
   "cell_type": "code",
   "execution_count": 10,
   "metadata": {
    "colab": {
     "base_uri": "https://localhost:8080/"
    },
    "id": "70h6b6h_4tW8",
    "outputId": "0149ecda-002d-4e41-979d-b5b27d0d112c"
   },
   "outputs": [
    {
     "data": {
      "text/plain": [
       "array(['Abnormal'], dtype=object)"
      ]
     },
     "execution_count": 10,
     "metadata": {},
     "output_type": "execute_result"
    }
   ],
   "source": [
    "prediction"
   ]
  },
  {
   "cell_type": "code",
   "execution_count": 11,
   "metadata": {
    "id": "5lYB3QhH498i"
   },
   "outputs": [],
   "source": [
    "with open('model.pkl', 'wb') as file:\n",
    "    pickle.dump(model, file)"
   ]
  },
  {
   "cell_type": "code",
   "execution_count": null,
   "metadata": {},
   "outputs": [],
   "source": []
  },
  {
   "cell_type": "code",
   "execution_count": null,
   "metadata": {},
   "outputs": [],
   "source": []
  }
 ],
 "metadata": {
  "colab": {
   "provenance": []
  },
  "kernelspec": {
   "display_name": "Python 3 (ipykernel)",
   "language": "python",
   "name": "python3"
  },
  "language_info": {
   "codemirror_mode": {
    "name": "ipython",
    "version": 3
   },
   "file_extension": ".py",
   "mimetype": "text/x-python",
   "name": "python",
   "nbconvert_exporter": "python",
   "pygments_lexer": "ipython3",
   "version": "3.11.3"
  }
 },
 "nbformat": 4,
 "nbformat_minor": 1
}
