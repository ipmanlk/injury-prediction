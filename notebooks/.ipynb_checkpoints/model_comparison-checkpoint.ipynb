{
 "cells": [
  {
   "cell_type": "code",
   "execution_count": 14,
   "id": "1f31de9d",
   "metadata": {},
   "outputs": [],
   "source": [
    "import pandas as pd\n",
    "from sklearn.model_selection import train_test_split, cross_val_score\n",
    "from sklearn.preprocessing import LabelEncoder\n",
    "from sklearn.linear_model import LogisticRegression\n",
    "from sklearn.tree import DecisionTreeClassifier\n",
    "from sklearn.ensemble import RandomForestClassifier\n",
    "from sklearn.svm import SVC\n",
    "from sklearn.metrics import classification_report\n",
    "from pathlib import Path\n",
    "import os\n",
    "import pickle\n"
   ]
  },
  {
   "cell_type": "code",
   "execution_count": 15,
   "id": "a61508c4",
   "metadata": {},
   "outputs": [
    {
     "data": {
      "text/html": [
       "<div>\n",
       "<style scoped>\n",
       "    .dataframe tbody tr th:only-of-type {\n",
       "        vertical-align: middle;\n",
       "    }\n",
       "\n",
       "    .dataframe tbody tr th {\n",
       "        vertical-align: top;\n",
       "    }\n",
       "\n",
       "    .dataframe thead th {\n",
       "        text-align: right;\n",
       "    }\n",
       "</style>\n",
       "<table border=\"1\" class=\"dataframe\">\n",
       "  <thead>\n",
       "    <tr style=\"text-align: right;\">\n",
       "      <th></th>\n",
       "      <th>heartRate</th>\n",
       "      <th>oxygenSaturation</th>\n",
       "      <th>temperature</th>\n",
       "      <th>systolicBloodPressure</th>\n",
       "      <th>diastolicBloodPressure</th>\n",
       "      <th>OUTPUT</th>\n",
       "    </tr>\n",
       "  </thead>\n",
       "  <tbody>\n",
       "    <tr>\n",
       "      <th>0</th>\n",
       "      <td>110</td>\n",
       "      <td>97.0</td>\n",
       "      <td>41.0</td>\n",
       "      <td>124</td>\n",
       "      <td>93</td>\n",
       "      <td>Abnormal</td>\n",
       "    </tr>\n",
       "    <tr>\n",
       "      <th>1</th>\n",
       "      <td>125</td>\n",
       "      <td>100.0</td>\n",
       "      <td>29.0</td>\n",
       "      <td>112</td>\n",
       "      <td>71</td>\n",
       "      <td>Normal</td>\n",
       "    </tr>\n",
       "    <tr>\n",
       "      <th>2</th>\n",
       "      <td>88</td>\n",
       "      <td>99.0</td>\n",
       "      <td>43.0</td>\n",
       "      <td>161</td>\n",
       "      <td>99</td>\n",
       "      <td>Abnormal</td>\n",
       "    </tr>\n",
       "    <tr>\n",
       "      <th>3</th>\n",
       "      <td>69</td>\n",
       "      <td>97.0</td>\n",
       "      <td>38.0</td>\n",
       "      <td>124</td>\n",
       "      <td>91</td>\n",
       "      <td>Abnormal</td>\n",
       "    </tr>\n",
       "    <tr>\n",
       "      <th>4</th>\n",
       "      <td>82</td>\n",
       "      <td>93.0</td>\n",
       "      <td>41.0</td>\n",
       "      <td>147</td>\n",
       "      <td>115</td>\n",
       "      <td>Abnormal</td>\n",
       "    </tr>\n",
       "    <tr>\n",
       "      <th>...</th>\n",
       "      <td>...</td>\n",
       "      <td>...</td>\n",
       "      <td>...</td>\n",
       "      <td>...</td>\n",
       "      <td>...</td>\n",
       "      <td>...</td>\n",
       "    </tr>\n",
       "    <tr>\n",
       "      <th>25488</th>\n",
       "      <td>78</td>\n",
       "      <td>93.0</td>\n",
       "      <td>29.0</td>\n",
       "      <td>116</td>\n",
       "      <td>71</td>\n",
       "      <td>Normal</td>\n",
       "    </tr>\n",
       "    <tr>\n",
       "      <th>25489</th>\n",
       "      <td>80</td>\n",
       "      <td>93.0</td>\n",
       "      <td>42.0</td>\n",
       "      <td>121</td>\n",
       "      <td>88</td>\n",
       "      <td>Abnormal</td>\n",
       "    </tr>\n",
       "    <tr>\n",
       "      <th>25490</th>\n",
       "      <td>97</td>\n",
       "      <td>98.0</td>\n",
       "      <td>33.0</td>\n",
       "      <td>166</td>\n",
       "      <td>118</td>\n",
       "      <td>Abnormal</td>\n",
       "    </tr>\n",
       "    <tr>\n",
       "      <th>25491</th>\n",
       "      <td>61</td>\n",
       "      <td>100.0</td>\n",
       "      <td>39.0</td>\n",
       "      <td>157</td>\n",
       "      <td>96</td>\n",
       "      <td>Abnormal</td>\n",
       "    </tr>\n",
       "    <tr>\n",
       "      <th>25492</th>\n",
       "      <td>96</td>\n",
       "      <td>97.0</td>\n",
       "      <td>36.2</td>\n",
       "      <td>119</td>\n",
       "      <td>62</td>\n",
       "      <td>Normal</td>\n",
       "    </tr>\n",
       "  </tbody>\n",
       "</table>\n",
       "<p>25493 rows × 6 columns</p>\n",
       "</div>"
      ],
      "text/plain": [
       "       heartRate  oxygenSaturation  temperature  systolicBloodPressure  \\\n",
       "0            110              97.0         41.0                    124   \n",
       "1            125             100.0         29.0                    112   \n",
       "2             88              99.0         43.0                    161   \n",
       "3             69              97.0         38.0                    124   \n",
       "4             82              93.0         41.0                    147   \n",
       "...          ...               ...          ...                    ...   \n",
       "25488         78              93.0         29.0                    116   \n",
       "25489         80              93.0         42.0                    121   \n",
       "25490         97              98.0         33.0                    166   \n",
       "25491         61             100.0         39.0                    157   \n",
       "25492         96              97.0         36.2                    119   \n",
       "\n",
       "       diastolicBloodPressure    OUTPUT  \n",
       "0                          93  Abnormal  \n",
       "1                          71    Normal  \n",
       "2                          99  Abnormal  \n",
       "3                          91  Abnormal  \n",
       "4                         115  Abnormal  \n",
       "...                       ...       ...  \n",
       "25488                      71    Normal  \n",
       "25489                      88  Abnormal  \n",
       "25490                     118  Abnormal  \n",
       "25491                      96  Abnormal  \n",
       "25492                      62    Normal  \n",
       "\n",
       "[25493 rows x 6 columns]"
      ]
     },
     "execution_count": 15,
     "metadata": {},
     "output_type": "execute_result"
    }
   ],
   "source": [
    "# Load the dataset\n",
    "data = pd.read_csv(\"../csv/data.csv\")\n",
    "data.columns = data.columns.str.strip()\n",
    "data"
   ]
  },
  {
   "cell_type": "code",
   "execution_count": 16,
   "id": "cdaaae9d",
   "metadata": {},
   "outputs": [],
   "source": [
    "# Separate features and target variable\n",
    "X = data.drop(['OUTPUT', 'systolicBloodPressure', 'diastolicBloodPressure'], axis=1)\n",
    "y = data['OUTPUT']"
   ]
  },
  {
   "cell_type": "code",
   "execution_count": 17,
   "id": "7c4cd562",
   "metadata": {},
   "outputs": [],
   "source": [
    "# Perform label encoding on the target variable\n",
    "le = LabelEncoder()\n",
    "y = le.fit_transform(y)"
   ]
  },
  {
   "cell_type": "code",
   "execution_count": 18,
   "id": "a82207c0",
   "metadata": {},
   "outputs": [],
   "source": [
    "# Split the dataset into training and testing sets\n",
    "X_train, X_test, y_train, y_test = train_test_split(X, y, test_size=0.2, random_state=42)"
   ]
  },
  {
   "cell_type": "code",
   "execution_count": 19,
   "id": "78355bbc",
   "metadata": {},
   "outputs": [],
   "source": [
    "# Define a list of classifiers to evaluate\n",
    "classifiers = [\n",
    "    LogisticRegression(max_iter=1000),\n",
    "    DecisionTreeClassifier(),\n",
    "    RandomForestClassifier(),\n",
    "    SVC()\n",
    "]\n"
   ]
  },
  {
   "cell_type": "code",
   "execution_count": 20,
   "id": "29bd19a4",
   "metadata": {},
   "outputs": [
    {
     "name": "stdout",
     "output_type": "stream",
     "text": [
      "LogisticRegression Accuracy: 0.9734724791228613\n",
      "Classification Report:\n",
      "              precision    recall  f1-score   support\n",
      "\n",
      "           0       0.98      0.98      0.98      3920\n",
      "           1       0.95      0.94      0.95      1179\n",
      "\n",
      "    accuracy                           0.97      5099\n",
      "   macro avg       0.97      0.96      0.96      5099\n",
      "weighted avg       0.97      0.97      0.97      5099\n",
      "\n",
      "\n",
      "DecisionTreeClassifier Accuracy: 0.9939687133170444\n",
      "Classification Report:\n",
      "              precision    recall  f1-score   support\n",
      "\n",
      "           0       1.00      1.00      1.00      3920\n",
      "           1       0.99      0.99      0.99      1179\n",
      "\n",
      "    accuracy                           0.99      5099\n",
      "   macro avg       0.99      0.99      0.99      5099\n",
      "weighted avg       0.99      0.99      0.99      5099\n",
      "\n",
      "\n",
      "RandomForestClassifier Accuracy: 0.994361033644471\n",
      "Classification Report:\n",
      "              precision    recall  f1-score   support\n",
      "\n",
      "           0       1.00      1.00      1.00      3920\n",
      "           1       0.99      0.99      0.99      1179\n",
      "\n",
      "    accuracy                           0.99      5099\n",
      "   macro avg       0.99      0.99      0.99      5099\n",
      "weighted avg       0.99      0.99      0.99      5099\n",
      "\n",
      "\n",
      "SVC Accuracy: 0.9763655301761105\n",
      "Classification Report:\n",
      "              precision    recall  f1-score   support\n",
      "\n",
      "           0       0.98      0.99      0.99      3920\n",
      "           1       0.95      0.95      0.95      1179\n",
      "\n",
      "    accuracy                           0.98      5099\n",
      "   macro avg       0.97      0.97      0.97      5099\n",
      "weighted avg       0.98      0.98      0.98      5099\n",
      "\n",
      "\n"
     ]
    }
   ],
   "source": [
    "# Evaluate each classifier using cross-validation\n",
    "for classifier in classifiers:\n",
    "    scores = cross_val_score(classifier, X_train, y_train, cv=4)\n",
    "    accuracy = scores.mean()\n",
    "    print(f\"{classifier.__class__.__name__} Accuracy: {accuracy}\")\n",
    "    \n",
    "    # Train the classifier on the full training set\n",
    "    classifier.fit(X_train, y_train)\n",
    "\n",
    "    # Make predictions on the test set\n",
    "    y_pred = classifier.predict(X_test)\n",
    "\n",
    "    # Generate the classification report\n",
    "    report = classification_report(y_test, y_pred)\n",
    "    print(\"Classification Report:\")\n",
    "    print(report)\n",
    "    print()\n"
   ]
  },
  {
   "cell_type": "code",
   "execution_count": 21,
   "id": "3c3f476a",
   "metadata": {},
   "outputs": [
    {
     "name": "stdout",
     "output_type": "stream",
     "text": [
      "Best Classifier: LogisticRegression\n"
     ]
    }
   ],
   "source": [
    "# Select the best classifier based on cross-validation results\n",
    "best_classifier = classifiers[scores.argmax()]\n",
    "print(f\"Best Classifier: {best_classifier.__class__.__name__}\")"
   ]
  },
  {
   "cell_type": "code",
   "execution_count": 22,
   "id": "a5f956b7",
   "metadata": {},
   "outputs": [
    {
     "data": {
      "text/html": [
       "<style>#sk-container-id-2 {color: black;background-color: white;}#sk-container-id-2 pre{padding: 0;}#sk-container-id-2 div.sk-toggleable {background-color: white;}#sk-container-id-2 label.sk-toggleable__label {cursor: pointer;display: block;width: 100%;margin-bottom: 0;padding: 0.3em;box-sizing: border-box;text-align: center;}#sk-container-id-2 label.sk-toggleable__label-arrow:before {content: \"▸\";float: left;margin-right: 0.25em;color: #696969;}#sk-container-id-2 label.sk-toggleable__label-arrow:hover:before {color: black;}#sk-container-id-2 div.sk-estimator:hover label.sk-toggleable__label-arrow:before {color: black;}#sk-container-id-2 div.sk-toggleable__content {max-height: 0;max-width: 0;overflow: hidden;text-align: left;background-color: #f0f8ff;}#sk-container-id-2 div.sk-toggleable__content pre {margin: 0.2em;color: black;border-radius: 0.25em;background-color: #f0f8ff;}#sk-container-id-2 input.sk-toggleable__control:checked~div.sk-toggleable__content {max-height: 200px;max-width: 100%;overflow: auto;}#sk-container-id-2 input.sk-toggleable__control:checked~label.sk-toggleable__label-arrow:before {content: \"▾\";}#sk-container-id-2 div.sk-estimator input.sk-toggleable__control:checked~label.sk-toggleable__label {background-color: #d4ebff;}#sk-container-id-2 div.sk-label input.sk-toggleable__control:checked~label.sk-toggleable__label {background-color: #d4ebff;}#sk-container-id-2 input.sk-hidden--visually {border: 0;clip: rect(1px 1px 1px 1px);clip: rect(1px, 1px, 1px, 1px);height: 1px;margin: -1px;overflow: hidden;padding: 0;position: absolute;width: 1px;}#sk-container-id-2 div.sk-estimator {font-family: monospace;background-color: #f0f8ff;border: 1px dotted black;border-radius: 0.25em;box-sizing: border-box;margin-bottom: 0.5em;}#sk-container-id-2 div.sk-estimator:hover {background-color: #d4ebff;}#sk-container-id-2 div.sk-parallel-item::after {content: \"\";width: 100%;border-bottom: 1px solid gray;flex-grow: 1;}#sk-container-id-2 div.sk-label:hover label.sk-toggleable__label {background-color: #d4ebff;}#sk-container-id-2 div.sk-serial::before {content: \"\";position: absolute;border-left: 1px solid gray;box-sizing: border-box;top: 0;bottom: 0;left: 50%;z-index: 0;}#sk-container-id-2 div.sk-serial {display: flex;flex-direction: column;align-items: center;background-color: white;padding-right: 0.2em;padding-left: 0.2em;position: relative;}#sk-container-id-2 div.sk-item {position: relative;z-index: 1;}#sk-container-id-2 div.sk-parallel {display: flex;align-items: stretch;justify-content: center;background-color: white;position: relative;}#sk-container-id-2 div.sk-item::before, #sk-container-id-2 div.sk-parallel-item::before {content: \"\";position: absolute;border-left: 1px solid gray;box-sizing: border-box;top: 0;bottom: 0;left: 50%;z-index: -1;}#sk-container-id-2 div.sk-parallel-item {display: flex;flex-direction: column;z-index: 1;position: relative;background-color: white;}#sk-container-id-2 div.sk-parallel-item:first-child::after {align-self: flex-end;width: 50%;}#sk-container-id-2 div.sk-parallel-item:last-child::after {align-self: flex-start;width: 50%;}#sk-container-id-2 div.sk-parallel-item:only-child::after {width: 0;}#sk-container-id-2 div.sk-dashed-wrapped {border: 1px dashed gray;margin: 0 0.4em 0.5em 0.4em;box-sizing: border-box;padding-bottom: 0.4em;background-color: white;}#sk-container-id-2 div.sk-label label {font-family: monospace;font-weight: bold;display: inline-block;line-height: 1.2em;}#sk-container-id-2 div.sk-label-container {text-align: center;}#sk-container-id-2 div.sk-container {/* jupyter's `normalize.less` sets `[hidden] { display: none; }` but bootstrap.min.css set `[hidden] { display: none !important; }` so we also need the `!important` here to be able to override the default hidden behavior on the sphinx rendered scikit-learn.org. See: https://github.com/scikit-learn/scikit-learn/issues/21755 */display: inline-block !important;position: relative;}#sk-container-id-2 div.sk-text-repr-fallback {display: none;}</style><div id=\"sk-container-id-2\" class=\"sk-top-container\"><div class=\"sk-text-repr-fallback\"><pre>LogisticRegression(max_iter=1000)</pre><b>In a Jupyter environment, please rerun this cell to show the HTML representation or trust the notebook. <br />On GitHub, the HTML representation is unable to render, please try loading this page with nbviewer.org.</b></div><div class=\"sk-container\" hidden><div class=\"sk-item\"><div class=\"sk-estimator sk-toggleable\"><input class=\"sk-toggleable__control sk-hidden--visually\" id=\"sk-estimator-id-2\" type=\"checkbox\" checked><label for=\"sk-estimator-id-2\" class=\"sk-toggleable__label sk-toggleable__label-arrow\">LogisticRegression</label><div class=\"sk-toggleable__content\"><pre>LogisticRegression(max_iter=1000)</pre></div></div></div></div></div>"
      ],
      "text/plain": [
       "LogisticRegression(max_iter=1000)"
      ]
     },
     "execution_count": 22,
     "metadata": {},
     "output_type": "execute_result"
    }
   ],
   "source": [
    "# Train the best classifier on the full training set\n",
    "best_classifier.fit(X_train, y_train)"
   ]
  },
  {
   "cell_type": "code",
   "execution_count": 23,
   "id": "dbb15556",
   "metadata": {},
   "outputs": [
    {
     "name": "stdout",
     "output_type": "stream",
     "text": [
      "Test Accuracy: 0.9748970386350265\n"
     ]
    }
   ],
   "source": [
    "# Evaluate the best classifier on the test set\n",
    "test_accuracy = best_classifier.score(X_test, y_test)\n",
    "print(f\"Test Accuracy: {test_accuracy}\")"
   ]
  },
  {
   "cell_type": "code",
   "execution_count": 24,
   "id": "3d415962",
   "metadata": {},
   "outputs": [],
   "source": [
    "## Test the model in action\n",
    "model = best_classifier"
   ]
  },
  {
   "cell_type": "code",
   "execution_count": 25,
   "id": "1fec8663",
   "metadata": {},
   "outputs": [],
   "source": [
    "# Define the data for a single incident\n",
    "data = {\n",
    "    'heartRate': [27.80747],\n",
    "    'oxygenSaturation': [21.93779],\n",
    "    'temperature': [0.1876749]\n",
    "}"
   ]
  },
  {
   "cell_type": "code",
   "execution_count": 26,
   "id": "0218721c",
   "metadata": {},
   "outputs": [],
   "source": [
    "# Create a DataFrame from the data\n",
    "X = pd.DataFrame(data)"
   ]
  },
  {
   "cell_type": "code",
   "execution_count": 27,
   "id": "12f335c9",
   "metadata": {},
   "outputs": [],
   "source": [
    "# Make a prediction on the single incident data\n",
    "prediction = model.predict(X)"
   ]
  },
  {
   "cell_type": "code",
   "execution_count": 28,
   "id": "ea7834e1",
   "metadata": {},
   "outputs": [],
   "source": [
    "# Decode the predicted label back to its original category\n",
    "predicted_category = le.inverse_transform(prediction)"
   ]
  },
  {
   "cell_type": "code",
   "execution_count": 29,
   "id": "8ada7bcf",
   "metadata": {},
   "outputs": [
    {
     "data": {
      "text/plain": [
       "array(['Normal'], dtype=object)"
      ]
     },
     "execution_count": 29,
     "metadata": {},
     "output_type": "execute_result"
    }
   ],
   "source": [
    "predicted_category"
   ]
  },
  {
   "cell_type": "code",
   "execution_count": null,
   "id": "11b5c929",
   "metadata": {},
   "outputs": [],
   "source": []
  },
  {
   "cell_type": "code",
   "execution_count": null,
   "id": "e3c51368",
   "metadata": {},
   "outputs": [],
   "source": []
  }
 ],
 "metadata": {
  "kernelspec": {
   "display_name": "Python 3 (ipykernel)",
   "language": "python",
   "name": "python3"
  },
  "language_info": {
   "codemirror_mode": {
    "name": "ipython",
    "version": 3
   },
   "file_extension": ".py",
   "mimetype": "text/x-python",
   "name": "python",
   "nbconvert_exporter": "python",
   "pygments_lexer": "ipython3",
   "version": "3.11.3"
  }
 },
 "nbformat": 4,
 "nbformat_minor": 5
}
